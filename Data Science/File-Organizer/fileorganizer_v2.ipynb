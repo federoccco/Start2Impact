{
 "cells": [
  {
   "cell_type": "code",
   "execution_count": 2,
   "id": "f6e297f3",
   "metadata": {},
   "outputs": [],
   "source": [
    "import os\n",
    "import shutil\n",
    "import csv\n",
    "import numpy as np\n",
    "from PIL import Image\n",
    "from tabulate import tabulate"
   ]
  },
  {
   "cell_type": "code",
   "execution_count": null,
   "id": "709aba20",
   "metadata": {},
   "outputs": [
    {
     "name": "stdout",
     "output_type": "stream",
     "text": [
      "bw.png type: Images size: 94926B\n",
      "ciao.txt type: Docs size: 12B\n",
      "daffodil.jpg type: Images size: 24657B\n",
      "eclipse.png type: Images size: 64243B\n",
      "pippo.odt type: Docs size: 8299B\n",
      "song1.mp3 type: Audio size: 1087849B\n",
      "song2.mp3 type: Audio size: 764176B\n",
      "trump.jpeg type: Images size: 10195B\n"
     ]
    }
   ],
   "source": [
    "# In this notebook I will use relative paths in such a way that no matter where the \"files\" folder is\n",
    "# The important thing is that the subfolders and files are all contained in the \"files\" folder\n",
    "files_list = os.listdir(\"files\")  # List of the files and folders contained in the \"files\" directory\n",
    "\n",
    "# Dictionary to identify the extension and associating them with a key based on type\n",
    "extensions = {\n",
    "    \"Images\": [\".jpg\", \".jpeg\", \".png\"],\n",
    "    \"Docs\": [\".doc\", \".txt\", \".odt\"],\n",
    "    \"Audio\": [\".mp3\"]\n",
    "}\n",
    "\n",
    "# Opening the csv, the keyword \"with\" allows me to automatically close the file without having to specify it, \n",
    "# The arguments of the open function are respectively the path where I want the csv to be positioned; \n",
    "# The mode: in this case \"a\" for append, so as not to overwrite the csv every time the script is run, but only updating it in order; \n",
    "# \"Encoding\" in case there are special characters, \"new line\" to avoid a blank line. \"f\" will be the name by which I refer to the handler\n",
    "with open(\"files/recap.csv\", \"a\", encoding=\"UTF8\", newline=\"\") as f:\n",
    "\n",
    "    # Creating a writer using the DictWriter csv module class, \n",
    "    # Thanks to which together with a dictionary I will write the information in the csv. \"fieldnames\" will be my header fields.\n",
    "    writer = csv.DictWriter(f, fieldnames=[\"name\", \"type\", \"size(B)\"])\n",
    "    if f.tell() == 0:  # Checking if the csv file is empty or not\n",
    "        writer.writeheader()  # If it's empty, I write a header\n",
    "    \n",
    "    # Loop in the extension dictionary, by default the loop variable is the key name of the dictionary                                          \n",
    "    for key in extensions:  \n",
    "\n",
    "        # I check that there is a directory for the extension types supported by the script, if there is not, I create it.\n",
    "            if not os.path.isdir(f\"files/{key}\"):\n",
    "                os.makedirs(f\"files/{key}\")\n",
    "        \n",
    "            for file in files_list:  # Looping the sorted file list obtained with listdir ()\n",
    "                # Check if the value assumed by the variable is a file or not\n",
    "                if os.path.isfile(f\"files/{file}\"):  \n",
    "                    # Isolating the extension and filename into two variables                                \n",
    "                    file_name, extension = os.path.splitext(file)  \n",
    "                        # Checking that the file extension is supported\n",
    "                    if extension in extensions[key]:     \n",
    "                        src = f\"files/{file}\"  # Creating a variable with the original path\n",
    "                        dst = f\"files/{key}/{file}\"  # And one with the destination path\n",
    "                        shutil.move(src=src, dst=dst)  # Moving the file from source to destination\n",
    "\n",
    "                        # I create a list containing a dictionary with the information to be included in the csv\n",
    "                        #  I need an iterable to pass to writer.writerows\n",
    "                        info = [{\n",
    "                            \"name\": file_name,\n",
    "                            \"type\": key,\n",
    "                            \"size(B)\": os.path.getsize(dst)\n",
    "                        }]\n",
    "                        writer.writerows(info)  # Writing data of the moved file in the csv\n",
    "                        print(f\"{info[0]['name']} type: {info[0]['type']} size: {info[0]['size(B)']}B\")  \n",
    "                    # If it is not supported, I report it to the user\n",
    "                    else:\n",
    "                        print(f\"the extension {extension} is not yet supported\")"
   ]
  },
  {
   "cell_type": "code",
   "execution_count": 4,
   "id": "81ebe401",
   "metadata": {
    "code_folding": []
   },
   "outputs": [
    {
     "name": "stdout",
     "output_type": "stream",
     "text": [
      "╒══════════╤══════════╤═════════╤═════════════╤════════╤════════╤═══════╤═════════╕\n",
      "│ name     │   height │   width │   grayscale │      R │      G │     B │   ALPHA │\n",
      "╞══════════╪══════════╪═════════╪═════════════╪════════╪════════╪═══════╪═════════╡\n",
      "│ bw       │      512 │     512 │       21.48 │   0.00 │   0.00 │  0.00 │    0.00 │\n",
      "├──────────┼──────────┼─────────┼─────────────┼────────┼────────┼───────┼─────────┤\n",
      "│ daffodil │      500 │     335 │        0.00 │ 109.25 │  85.56 │  4.97 │    0.00 │\n",
      "├──────────┼──────────┼─────────┼─────────────┼────────┼────────┼───────┼─────────┤\n",
      "│ eclipse  │      256 │     256 │        0.00 │ 109.05 │ 109.52 │ 39.85 │  133.59 │\n",
      "├──────────┼──────────┼─────────┼─────────────┼────────┼────────┼───────┼─────────┤\n",
      "│ trump    │      183 │     275 │        0.00 │  97.01 │  98.99 │ 90.92 │    0.00 │\n",
      "╘══════════╧══════════╧═════════╧═════════════╧════════╧════════╧═══════╧═════════╛\n"
     ]
    }
   ],
   "source": [
    "\n",
    "\n",
    "# Creating a list of the files contained in the docs folder\n",
    "images_list = os.listdir(\"files/Images\")\n",
    "\n",
    "# I create a dictionary with the information to be inserted in the table, the keys will be the header, \n",
    "# The values ​​will be a list that will be processed by tabulate assigning them respectively to each processed file\n",
    "table = {\n",
    "        \"name\": [],\n",
    "        \"height\": [],\n",
    "        \"width\": [],\n",
    "        \"grayscale\" : [],\n",
    "        \"R\" : [],\n",
    "        \"G\" : [],\n",
    "        \"B\" : [],\n",
    "        \"ALPHA\" : []   \n",
    "    }\n",
    "\n",
    "# Iterating over files into the folder, get the path, process it to Image.open, which will create an Image object for me\n",
    "for file in images_list:\n",
    "    path = f\"files/Images/{file}\"\n",
    "    img = Image.open(path)\n",
    "    \n",
    "    # Assigning values ​​to the \"name\" key via os.path.splitext which will isolate the file name from the extension. \n",
    "    # I get a list containing the name of the file at index 0, which I access with a list slicing\n",
    "    table[\"name\"].append(os.path.splitext(file)[0])\n",
    "    \n",
    "    # I create my array with the np.array function and as argument the Image object obtained before\n",
    "    np_img = np.array(img)\n",
    "    \n",
    "    # I assign the \"height\" and \"width\" values ​​obtained with array.shape, which gives me the number \n",
    "    # Of rows and columns of the array, ie the number of pixels in height and width. \n",
    "    # Array.shape gives me a tuple, so I access the respective values ​​with a slicing\n",
    "    table[\"height\"].append(np_img.shape[0])\n",
    "    table[\"width\"].append(np_img.shape[1])\n",
    "    \n",
    "    # Images can be in grayscale, rgb, or rbga. A grayscale image will have a size equal to 2 (2x2 matrix), \n",
    "    # An RGB and an RGBA will have dimension 3 (2x2 matrix where each value will be a tuple (x, y, z), \n",
    "    # So isolating we will have three 2x2 matrices where each will represent red, green, and blue respectively). \n",
    "    # Same goes for the image with the alpha channel, but in this case we will have four 2x2 matrices, \n",
    "    # Where the fourth will have the alpha values. First of all I try to understand if the file is a grayscale \n",
    "    # Image or not through an if statement by checking the size of the array\n",
    "    if np_img.ndim < 3:\n",
    "        # I then assign to the \"grayscale\" key the average value obtained from the pixels of all the \n",
    "        # Rows and all the columns (:, :) by slicing\n",
    "        table[\"grayscale\"].append(np.mean(np_img))\n",
    "        # As there are no other channels, all other values ​​will have a value of 0\n",
    "        for key in [\"R\", \"G\", \"B\", \"ALPHA\"]:\n",
    "            table[key].append(0)\n",
    "    else:\n",
    "        # In the opposite case, if the dimension is greater than 2, grayscale will be equal to 0\n",
    "        table[\"grayscale\"].append(0)\n",
    "        \n",
    "        # For color images, I calculate the average using the \"axis = (0,1)\" parameter. In this \n",
    "        # Way I am calculating the average by collapsing the rows (axis = 0) and the columns (axis = 1)\n",
    "        # Obtaining a tuple (x, y, z) where each value is respectively the average per color level.\n",
    "        mean_tup = np.mean(np_img, axis=(0,1))\n",
    "        # I then assign the respective average values ​​to the table\n",
    "        for n, key in enumerate([\"R\", \"G\", \"B\"]):\n",
    "            table[key].append(mean_tup[n])\n",
    "        \n",
    "        # For the alpha channel image, I use the same \"mean_tup\" variable, which will return me a tuple \n",
    "        # (x, y, z, w). The concept then repeats itself as above\n",
    "        if np_img.shape[2] == 4:\n",
    "            table[\"ALPHA\"].append(mean_tup[3])\n",
    "        else:\n",
    "            # Alternatively, the average alpha value will be 0\n",
    "            table[\"ALPHA\"].append(0)\n",
    "            \n",
    "# I print the information obtained in a table created with the tabulate module. \n",
    "# Table is the name of the dictionary created at the beginning of the script, \n",
    "# its elements (lists) are inserted in order according to their key, \n",
    "# Which is written as \"Headers\" by assigning Dict.keys() to the \"headers\" parameter. \n",
    "# \"tablefmt\" is simply the aesthetics of the grid. I need \"floatfmt\" to round off \n",
    "# the values ​​to be entered to two decimal places. The function by defaults aligns to the left \n",
    "# text for strings, and to the right numbers, and automatically \n",
    "# converts any strings it recognizes could be numbers into numbers.\n",
    "print(tabulate(table, headers=table.keys(), tablefmt=\"fancy_grid\",floatfmt=\".2f\"))\n",
    "\n",
    "\n",
    "    "
   ]
  }
 ],
 "metadata": {
  "hide_input": false,
  "kernelspec": {
   "display_name": "Python 3.10.0 64-bit",
   "language": "python",
   "name": "python3"
  },
  "language_info": {
   "codemirror_mode": {
    "name": "ipython",
    "version": 3
   },
   "file_extension": ".py",
   "mimetype": "text/x-python",
   "name": "python",
   "nbconvert_exporter": "python",
   "pygments_lexer": "ipython3",
   "version": "3.10.0"
  },
  "nbTranslate": {
   "displayLangs": [
    "*"
   ],
   "hotkey": "alt-t",
   "langInMainMenu": true,
   "sourceLang": "en",
   "targetLang": "fr",
   "useGoogleTranslate": true
  },
  "toc": {
   "base_numbering": 1,
   "nav_menu": {},
   "number_sections": true,
   "sideBar": true,
   "skip_h1_title": false,
   "title_cell": "Table of Contents",
   "title_sidebar": "Contents",
   "toc_cell": false,
   "toc_position": {},
   "toc_section_display": true,
   "toc_window_display": false
  },
  "varInspector": {
   "cols": {
    "lenName": 16,
    "lenType": 16,
    "lenVar": 40
   },
   "kernels_config": {
    "python": {
     "delete_cmd_postfix": "",
     "delete_cmd_prefix": "del ",
     "library": "var_list.py",
     "varRefreshCmd": "print(var_dic_list())"
    },
    "r": {
     "delete_cmd_postfix": ") ",
     "delete_cmd_prefix": "rm(",
     "library": "var_list.r",
     "varRefreshCmd": "cat(var_dic_list()) "
    }
   },
   "types_to_exclude": [
    "module",
    "function",
    "builtin_function_or_method",
    "instance",
    "_Feature"
   ],
   "window_display": false
  },
  "vscode": {
   "interpreter": {
    "hash": "bf3fddaf5f16d859b6e8d0eeaf4cfc855ee191cae7b483f6b3cdefa4bf9da992"
   }
  }
 },
 "nbformat": 4,
 "nbformat_minor": 5
}
