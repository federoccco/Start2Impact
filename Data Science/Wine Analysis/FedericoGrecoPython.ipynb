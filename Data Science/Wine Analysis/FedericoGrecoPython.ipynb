{
 "cells": [
  {
   "cell_type": "markdown",
   "metadata": {},
   "source": [
    "# Projects settings"
   ]
  },
  {
   "attachments": {},
   "cell_type": "markdown",
   "metadata": {},
   "source": [
    "La prima cosa da fare per un nuovo progetto è quella di creare un ambiente virtuale. Questo ci consente di lavorare con versioni specifiche di librerie e dell'interprete che più riteniamo ottimali per la buona riuscita del progetto. Farò tutti i passaggi necessari tramite il terminale."
   ]
  },
  {
   "attachments": {},
   "cell_type": "markdown",
   "metadata": {},
   "source": [
    "<b>Creazione ambiente virtuale</b><br>\n",
    "python -m venv venv\n",
    "\n",
    "<b>Attivazione dell'ambiente virtuale</b><br>\n",
    "./Scripts/Activate.ps1\n",
    "\n",
    "<b>Installazione pacchetti e kernel</b><br>\n",
    "pip install pandas<br>\n",
    "pip install numpy<br>\n",
    "pip install sidetables<br>\n",
    "pip install Jinja2<br>\n",
    "pip install ipykernel<br>\n",
    "pip install plotly==5.11.0<br>\n",
    "pip install nbformat<br>\n",
    "pip install statsmodels\n",
    "\n",
    "<b>Impostazione del kernel per il notebook</b><br>\n",
    "ipython kernel install --user --name=venv\n",
    "\n",
    "<b>Creazione di un file .txt contenente i pacchetti e le versioni</b><br>\n",
    "pip freeze > requirements.txt"
   ]
  },
  {
   "attachments": {},
   "cell_type": "markdown",
   "metadata": {},
   "source": [
    "# Discovery\n",
    "<p>L'obiettivo di questa analisi è quello di creare un catalogo per un e-commerce di vini<p>\n",
    "Il catalogo sarà costituito da 2 categorie:\n",
    "<ul>\n",
    "<li>Catalogo nazioni</li>\n",
    "<li>Catalogo varietà</li>\n",
    "</ul><br>\n",
    "Ogni categoria avrà 3 vini per componente distribuiti per fascia di prezzo"
   ]
  },
  {
   "cell_type": "markdown",
   "metadata": {},
   "source": [
    "# Data Selection"
   ]
  },
  {
   "cell_type": "code",
   "execution_count": null,
   "metadata": {},
   "outputs": [],
   "source": [
    "# Standard libraries \n",
    "import numpy as np\n",
    "import pandas as pd\n",
    "import math\n",
    "import scipy.stats as st\n",
    "\n",
    "# Data cleaning libraries\n",
    "import sidetable\n",
    "from re import search\n",
    "from datetime import date\n",
    "\n",
    "# Visualization libraries\n",
    "import plotly \n",
    "import plotly.express as px\n",
    "\n"
   ]
  },
  {
   "cell_type": "code",
   "execution_count": null,
   "metadata": {},
   "outputs": [],
   "source": [
    "# Importing data\n",
    "df_raw = pd.read_csv('winemag-data-130k-v2.csv')\n",
    "\n",
    "# Creating a copy of the raw data to mantain the original version just in case\n",
    "df = df_raw.copy()\n",
    "df.head()"
   ]
  },
  {
   "cell_type": "markdown",
   "metadata": {},
   "source": [
    "# Data Cleaning"
   ]
  },
  {
   "cell_type": "code",
   "execution_count": null,
   "metadata": {},
   "outputs": [],
   "source": [
    "# Rows and columns shape\n",
    "df.shape"
   ]
  },
  {
   "attachments": {},
   "cell_type": "markdown",
   "metadata": {},
   "source": [
    "Shape ci sta un idea della struttura del dataframe, in questo caso il nostro  set di dati è composto da 129.997 righe e 14 colonne"
   ]
  },
  {
   "cell_type": "code",
   "execution_count": null,
   "metadata": {},
   "outputs": [],
   "source": [
    "# Basic statistic\n",
    "df.describe()"
   ]
  },
  {
   "attachments": {},
   "cell_type": "markdown",
   "metadata": {},
   "source": [
    "Describe ci sta una prima infarinatura di statistiche di base sulle colonne numeriche del dataset"
   ]
  },
  {
   "cell_type": "code",
   "execution_count": null,
   "metadata": {},
   "outputs": [],
   "source": [
    "# Columns types and non-null count\n",
    "df.info()"
   ]
  },
  {
   "attachments": {},
   "cell_type": "markdown",
   "metadata": {},
   "source": [
    "Info invece ci da informazioni riguardo il tipo di variabili che abitano il nostro set di dati e un count delle entità"
   ]
  },
  {
   "attachments": {},
   "cell_type": "markdown",
   "metadata": {},
   "source": [
    "E' buona norma controllare la presenta di duplicati all'interno del set. In questo caso ho creato una funzione personalizzata che mi stampa il numero di righe prima e dopo la rimozione dei duplicati, in caso ce ne siano la funzione li rimuove e me lo comunica, altrimenti mi dirà che non sono stati trovati duplicati"
   ]
  },
  {
   "cell_type": "code",
   "execution_count": null,
   "metadata": {},
   "outputs": [],
   "source": [
    "# Cheking for duplicates\n",
    "def duplicates_check(dataframe):\n",
    "    # Variable that store the number of rows before removing duplicates\n",
    "    before = dataframe.shape[0]\n",
    "    print(f'Number of rows before dropping duplicates: {before:>6}')\n",
    "\n",
    "    # removing duplicates if there any\n",
    "    dataframe.drop_duplicates(keep='first', inplace=True)\n",
    "\n",
    "    # variables that stores the number of rows after removing duplicates\n",
    "    after = dataframe.shape[0]\n",
    "    print(f'Number of rows after dropping duplicates: {after :>7}')\n",
    "\n",
    "    # printing the result\n",
    "    if before == after:\n",
    "        print('No duplicates were found')\n",
    "    else:\n",
    "        print(f'{before - after} duplicates were found and removed')\n",
    "    return \n",
    "\n",
    "duplicates_check(df)"
   ]
  },
  {
   "attachments": {},
   "cell_type": "markdown",
   "metadata": {},
   "source": [
    "Le seguenti funzioni mi serviranno per estrarre l'anno di produzione del vino dall'etichetta 'title'. La prima funzione prende come input una stringa (l'etichetta della colonna 'title' appunto) e ritorna un valore booleano in caso in cui sia presente qualsiasi numero all'interno dell'etichetta. Ho applicato questa funzione tramite la funzione di pandas apply() alla colonna delle cantine, creando una condizione che ho poi usato per filtrare il set per ottenere una lista di tutte le cantine che hanno all'interno del loro nome un numero. Questo è stato necessario in quanto dopo una prima applicazione della seconda funzione, mi sono accorto che all'interno di alcune etichette era presente sia l'anno di produzione del vino che l'anno presente nel nome della cantina. "
   ]
  },
  {
   "cell_type": "code",
   "execution_count": null,
   "metadata": {},
   "outputs": [],
   "source": [
    "def winery_solver(string):\n",
    "    return any(x.isdigit() for x in string.split())\n",
    "\n",
    "cond = df['winery'].apply(winery_solver)\n",
    "\n",
    "df.loc[cond, 'winery'].unique()"
   ]
  },
  {
   "attachments": {},
   "cell_type": "markdown",
   "metadata": {},
   "source": [
    "Una volta ottenuta la lista delle cantine problematiche ho ciclato al suo interno. Mi interessa controllare se il nome di una di queste cantine sia presente all'interno dell'etichetta che sto processando, e in caso affermativo, sostituire alla cantina la stringa vuota ''. In questo modo elimino il problema del doppio anno e posso poi procedere all'estrazione. Splitto la stringa che compone l'etichetta usando lo spazio come separatore in singole stringhe che mi costruiscono una lista. Ciclando questa lista, se l'elemento <i>s</i> è una cifra e la sua lunghezza è uguale a 4, lo trasformo in un intero. Poi controllo che il suo valore sia maggiore di 1796 (bottiglia di vino più antica attualmente in commercio) e che sia minore dell'anno attuale (impossile per quanto ne sappiamo al momento produrre un vino nel futuro). Se l'elemento <i>s</i> soddisfa tutte queste condizioni la funzione ritorna l'elemento <i>s</i>. Ho poi applicato la funzione con apply() alla colonna 'title' creando così la colonna 'year' con l'anno di produzione del vino."
   ]
  },
  {
   "cell_type": "code",
   "execution_count": null,
   "metadata": {},
   "outputs": [],
   "source": [
    "# extracting the year of the wine from the title column\n",
    "\n",
    "# creating the function\n",
    "def num_extract(string: str):\n",
    "    wineries = [\n",
    "        'Antichi Vinai 1877',\n",
    "        'Caccia al Piano 1868',\n",
    "        'Donna Olimpia 1898',\n",
    "        'Don Cristobal 1492',\n",
    "        'Bodegas 1898',\n",
    "        'Foxen 7200',\n",
    "        'Hazlitt 1852 Vineyards',\n",
    "        'Guidi 1929',\n",
    "        '1912 Winemakers',\n",
    "        'Baglio Curatolo Arini 1875',\n",
    "        '1848 Winery',\n",
    "        'Dogliotti 1870',\n",
    "        'Estate 1856',\n",
    "        'Tenuta Sarno 1860',\n",
    "        '1850',\n",
    "        '1000 Stories',\n",
    "        'Prospect 1870',\n",
    "        '1070 Green',\n",
    "        'Bagrationi 1882',\n",
    "        '1752 Signature Wines',\n",
    "        '1789 Wines',\n",
    "        'Fortune 1621',\n",
    "        'Poderi dal Nespoli 1929',\n",
    "        'Ippolito 1845',\n",
    "        'Cristobal 1492',\n",
    "        'Ikal 1150',\n",
    "        '3000 BC',\n",
    "        'Cavas Hill NV 1887',\n",
    "        'Codorníu NV Reserva Cuvée Barcelona 1872',\n",
    "        'Wiese & Krohn 1964',\n",
    "        'Taylor Fladgate 1967',\n",
    "        'Osborne NV Pedro Ximenez 1827',\n",
    "        'Cavas Hill NV 1887',\n",
    "        'Codorníu NV Reserva Cuvée Barcelona 1872',\n",
    "        \"Blandy's 1969\",\n",
    "        'Mas de Monistrol NV MM Masia 1882',\n",
    "        'Kopke 1935 Colheita White  (Port)',\n",
    "        'Zonin NV Cuvèe 1821',\n",
    "        'Zonin NV Cuvèe 1821',\n",
    "        'Kopke 1965',\n",
    "        'Taylor Fladgate 1968',\n",
    "        'Bodegas Toro Albala, SL 1947',\n",
    "        \"Dow's 1963\",\n",
    "        'Alvear NV Solera 1927',\n",
    "        'Taylor Fladgate 1964',\n",
    "        \"Arthur Metz NV 1904\",\n",
    "        'Carpenè Malvolti NV 1868',\n",
    "        'González Byass NV Solera 1847',\n",
    "        'Messias 1963',\n",
    "        \"L'Arboc NV 1919\",\n",
    "        'Burmester 1963',\n",
    "        'Kopke 1957',\n",
    "        'Kopke 1966',\n",
    "        'Cálem 1961',\n",
    "        'Messias 1952',\n",
    "        'Zonin NV Cuvée 1821',\n",
    "        'Osborne NV Premium Sweet Sherry 1827',\n",
    "        'Burmester 1952',\n",
    "        'Kopke 1941',\n",
    "        'Taylor Fladgate 1966',\n",
    "        'Adega Viuva Gomes 1934',\n",
    "        'Gérard Bertrand 1945',\n",
    "        'Kopke 1935'\n",
    "        ]\n",
    "\n",
    "\n",
    "    for t in wineries:\n",
    "        if search(t, string):\n",
    "            string = string.replace(t, '')   \n",
    "    for s in string.split():\n",
    "        if s.isdigit() and len(s) == 4:\n",
    "            s = int(s)\n",
    "            if s > 1796 and s <= date.today().year:\n",
    "                return s\n",
    "\n",
    "# creating the column by applying the function to the title column and changing the type from float to int\n",
    "df['year'] = df['title'].apply(num_extract).astype('Int64')"
   ]
  },
  {
   "attachments": {},
   "cell_type": "markdown",
   "metadata": {},
   "source": [
    "Procedo poi a controllare la presenza di valori nulli"
   ]
  },
  {
   "cell_type": "code",
   "execution_count": null,
   "metadata": {},
   "outputs": [],
   "source": [
    "# Checking for missing values in the dataset\n",
    "df.stb.missing(style=True)"
   ]
  },
  {
   "attachments": {},
   "cell_type": "markdown",
   "metadata": {},
   "source": [
    "Le colonne designation e region_1 hanno rispettivamente il 28.79% e il 16% di dati mancanti, ma per la mia analisi sono colonne trascruabuli.<br>\n",
    "I prezzi invece hanno il 7% di dati mancanti, proverò a prevedere quei prezzi."
   ]
  },
  {
   "attachments": {},
   "cell_type": "markdown",
   "metadata": {},
   "source": [
    "Droppo quindi le colonne che so che non mi serviranno."
   ]
  },
  {
   "cell_type": "code",
   "execution_count": null,
   "metadata": {},
   "outputs": [],
   "source": [
    "# Dropping unnecessary columns\n",
    "df.drop(['Unnamed: 0', 'designation', 'province', 'region_1', 'region_2', 'taster_name', 'taster_twitter_handle'], axis=1, inplace=True)"
   ]
  },
  {
   "attachments": {},
   "cell_type": "markdown",
   "metadata": {},
   "source": [
    "# Data Exploration"
   ]
  },
  {
   "attachments": {},
   "cell_type": "markdown",
   "metadata": {},
   "source": [
    "La prima variabile che mi interessa è quella dei punti, faccio un istogramma per vederne la distribuzione"
   ]
  },
  {
   "cell_type": "code",
   "execution_count": null,
   "metadata": {},
   "outputs": [],
   "source": [
    "# Points Histogram\n",
    "fig = px.histogram(\n",
    "    df, \n",
    "    x=df['points'],\n",
    "    marginal=\"violin\",\n",
    "    hover_data=df.columns,\n",
    "    template='simple_white',\n",
    "    width=900\n",
    ")\n",
    "\n",
    "# Layout\n",
    "fig.update_layout(\n",
    "    xaxis=dict(\n",
    "        title='Points distribution'\n",
    "    ),\n",
    "    yaxis=dict(\n",
    "        title='Count'\n",
    "    )\n",
    ")\n",
    "    \n",
    "fig.show()"
   ]
  },
  {
   "cell_type": "code",
   "execution_count": null,
   "metadata": {},
   "outputs": [],
   "source": [
    "df['points'].describe()"
   ]
  },
  {
   "attachments": {},
   "cell_type": "markdown",
   "metadata": {},
   "source": [
    "media (88.44) e mediana (88) sono uguali, il che giustifica la poca presenza di outliers. La moda inoltre è anch'essa 88. La deviazione standard è di 3.09 punti rispetto alla media.<br>\n",
    "<i>points</i> ≈ N(88.44, 3.09²)"
   ]
  },
  {
   "cell_type": "code",
   "execution_count": null,
   "metadata": {},
   "outputs": [],
   "source": [
    "# Price distribution\n",
    "\n",
    "# number of bins with Freedman-Diaconis rule\n",
    "q1 = df['price'].quantile(0.25)\n",
    "q3 = df['price'].quantile(0.75)\n",
    "iqr = q3 - q1\n",
    "bin_width = (2 * iqr) / (len(df['price']) ** (1 / 3))\n",
    "bin_count = int(np.ceil((df['price'].max() - df['price'].min()) / bin_width))\n",
    "\n",
    "\n",
    "\n",
    "\n",
    "# Histogram\n",
    "fig = px.histogram(\n",
    "    df, \n",
    "    x=df['price'],\n",
    "    marginal=\"violin\",\n",
    "    hover_data=df.columns,\n",
    "    template='simple_white',\n",
    "    nbins=bin_count,\n",
    "    width=900\n",
    ")\n",
    "\n",
    "# Layout\n",
    "fig.update_layout(\n",
    "    xaxis=dict(\n",
    "        title='Price distribution'\n",
    "    ),\n",
    "    yaxis=dict(\n",
    "        title='Count'\n",
    "    )\n",
    ")\n",
    "    \n",
    "fig.show()"
   ]
  },
  {
   "attachments": {},
   "cell_type": "markdown",
   "metadata": {},
   "source": [
    "La varibaile dei prezzi presenta un istogramma di difficile lettura a causa del grande range, anche se passando il mouse sul violino possiamo vedere inizialmente minimi, massimi e IQR"
   ]
  },
  {
   "cell_type": "code",
   "execution_count": null,
   "metadata": {},
   "outputs": [],
   "source": [
    "df['price'].describe()"
   ]
  },
  {
   "cell_type": "markdown",
   "metadata": {},
   "source": [
    "Con la funzione describe rendo più chiara ed immediata la situazione"
   ]
  },
  {
   "attachments": {},
   "cell_type": "markdown",
   "metadata": {},
   "source": [
    "Provo quindi a creare un nuovo istrogramma questa volta ignorando i valori di prezzo sopra l'upperfence (79 dollari) e risistemando il numero e la larghezza dei bins"
   ]
  },
  {
   "cell_type": "code",
   "execution_count": null,
   "metadata": {},
   "outputs": [],
   "source": [
    "# number of bins with Freedman-Diaconis rule\n",
    "\n",
    "no_outlier = df.loc[np.where(df['price'] <= 79)]\n",
    "\n",
    "q1 = no_outlier['price'].quantile(0.25)\n",
    "q3 = no_outlier['price'].quantile(0.75)\n",
    "iqr = q3 - q1\n",
    "bin_width = (2 * iqr) / (len(no_outlier['price']) ** (1 / 3))\n",
    "bin_count = int(np.ceil((no_outlier['price'].max() - no_outlier['price'].min()) / bin_width))\n",
    "\n",
    "\n",
    "# Histogram\n",
    "fig = px.histogram(\n",
    "    no_outlier, \n",
    "    x=no_outlier['price'],\n",
    "    marginal=\"violin\",\n",
    "    hover_data=df.columns,\n",
    "    template='simple_white',\n",
    "    nbins=bin_count,\n",
    "    width=900\n",
    ")\n",
    "\n",
    "# Layout\n",
    "fig.update_layout(\n",
    "    xaxis=dict(\n",
    "        title='Price distribution'\n",
    "    ),\n",
    "    yaxis=dict(\n",
    "        title='Count'\n",
    "    )\n",
    ")\n",
    "    \n",
    "fig.show()"
   ]
  },
  {
   "cell_type": "markdown",
   "metadata": {},
   "source": [
    "Da questo istogramma si può notare come i prezzi a cifra tonda siano in netta maggioranza"
   ]
  },
  {
   "cell_type": "code",
   "execution_count": null,
   "metadata": {},
   "outputs": [],
   "source": [
    "no_outlier['price'].describe()"
   ]
  },
  {
   "attachments": {},
   "cell_type": "markdown",
   "metadata": {},
   "source": [
    "Come si evince dai grafici predenti, 79 è l'upper fence di prezzo, considererò questa per la scelta dei miei range di prezzo"
   ]
  },
  {
   "attachments": {},
   "cell_type": "markdown",
   "metadata": {},
   "source": [
    "Ora mi interessa creare una nuova colonna per il dataset dove andrò ad inserire ogni vino in un range di prezzo, per poi vedere la distribuzione dei range.\n",
    "Ho individuato 10 range di prezzo seguendo gli istogrammi precedenti con un range di 10 unità per ogni intervallo. "
   ]
  },
  {
   "cell_type": "code",
   "execution_count": null,
   "metadata": {},
   "outputs": [],
   "source": [
    "# Creating price_range column\n",
    "df['price_range'] = df['price'].apply(lambda x: 'More than 79' if x > 79 else '70-79' if x > 69 else '60-69' if x > 59 else '50-59' if x > 49 else '40-49' if x > 39 else '30-39' if x > 29 else '20-29' if x > 19 else '10-19' if x > 9 else '0-10' if x > 0 else 'Uknown')\n",
    "\n",
    "# Histogram\n",
    "fig = px.histogram(\n",
    "    df, \n",
    "    x=df['price_range'],\n",
    "    y=df['price_range'],\n",
    "    histfunc='count',\n",
    "    template='simple_white',\n",
    "    text_auto=True,\n",
    "    width=900\n",
    ")\n",
    "\n",
    "# Layout\n",
    "fig.update_layout(\n",
    "    xaxis=dict(\n",
    "        title='Price distribution',\n",
    "        categoryorder='category ascending'\n",
    "    ),\n",
    "    yaxis=dict(\n",
    "        title='Count'\n",
    "    )\n",
    ")\n",
    "\n",
    "# Printing plot\n",
    "fig.show()"
   ]
  },
  {
   "cell_type": "code",
   "execution_count": null,
   "metadata": {},
   "outputs": [],
   "source": [
    "df['price_range'].describe()"
   ]
  },
  {
   "cell_type": "code",
   "execution_count": null,
   "metadata": {},
   "outputs": [],
   "source": [
    "# Value counts (%)\n",
    "round(df['price_range'].value_counts(True) * 100, 2)"
   ]
  },
  {
   "attachments": {},
   "cell_type": "markdown",
   "metadata": {},
   "source": [
    "Il 50% dei vini ha un prezzo compreso tra 10 e 29 dollari. Il 70% dei vini ha un prezzo compreso tra 10 e 49 dollari. Sorprendentemente è più probabile che un vino costi più di 79 dollari piuttosto che meno di 10"
   ]
  },
  {
   "attachments": {},
   "cell_type": "markdown",
   "metadata": {},
   "source": [
    "## Nazioni"
   ]
  },
  {
   "attachments": {},
   "cell_type": "markdown",
   "metadata": {},
   "source": [
    "Per costruire la parte di  catalogo dell'assortimento per le migliori nazioni mi interessa individuare quali sono le migliori nazioni basandomi sul punteggio medio ottenuto dai rispettivi vini"
   ]
  },
  {
   "cell_type": "code",
   "execution_count": null,
   "metadata": {},
   "outputs": [],
   "source": [
    "df.groupby('country')['points'].mean().to_frame(name='mean').sort_values(by='mean', ascending=False)"
   ]
  },
  {
   "attachments": {},
   "cell_type": "markdown",
   "metadata": {},
   "source": [
    "l'Inghilterra è risultata al primo posto avendo però meno di 100 vini recensiti, inoltre ben 4 nazioni sono risultate tra i migliori 20 paesi avendo meno di 10 vini.<br>\n",
    "Sorprendentemente Italia e Francia, i paesi più famosi al mondo per la produzione di vino non si trovano nemmeno nella top 5, con l'Italia addirittura fuori dalla top 10"
   ]
  },
  {
   "attachments": {},
   "cell_type": "markdown",
   "metadata": {},
   "source": [
    "\n",
    "Investighiamo ulteriormente, e oltre alle media vediamo quali sono i punteggi massimi e minimi ottenuti dalle nazioni ordinando per punteggio massimo e poi per media a parità di punteggio massimo."
   ]
  },
  {
   "cell_type": "code",
   "execution_count": null,
   "metadata": {},
   "outputs": [],
   "source": [
    "df.groupby('country')['points'].agg(['min', 'max', 'mean']).sort_values(by=['max', 'mean'], ascending=[False, False])"
   ]
  },
  {
   "attachments": {},
   "cell_type": "markdown",
   "metadata": {},
   "source": [
    "La classifica prende una piega diversa e più simile a quanto ci si aspettava, l'inghilterra scivola all'11esimo posto con Francia e Italia nella top 5."
   ]
  },
  {
   "attachments": {},
   "cell_type": "markdown",
   "metadata": {},
   "source": [
    "Voglio indagare e mi interessa sapere come sia la distribuzione dei punti per ogni nazione"
   ]
  },
  {
   "cell_type": "code",
   "execution_count": null,
   "metadata": {},
   "outputs": [],
   "source": [
    "fig = px.histogram(df, x='points', y='points', histfunc='count', facet_col='country', facet_col_wrap=5, height=900, width=900)\n",
    "\n",
    "fig.show()"
   ]
  },
  {
   "attachments": {},
   "cell_type": "markdown",
   "metadata": {},
   "source": [
    "Gli istogrammi rivelano che alcuni paesi risultano tra i migliori avendo addirittura un solo vino, controllo quindi il conteggio di vini per paese, per poi ridurre il campione delle nazione che userò"
   ]
  },
  {
   "cell_type": "code",
   "execution_count": null,
   "metadata": {},
   "outputs": [],
   "source": [
    "df.groupby('country')['title'].nunique().sort_values(ascending=False)"
   ]
  },
  {
   "cell_type": "code",
   "execution_count": null,
   "metadata": {},
   "outputs": [],
   "source": [
    "round(df.groupby('country')['title'].nunique() / df['title'].nunique() * 100, 2).sort_values(ascending=False)"
   ]
  },
  {
   "attachments": {},
   "cell_type": "markdown",
   "metadata": {},
   "source": [
    "L'US ha 50.229 vini diversi, contribuendo per il 42.27% sul totale dei vini unici per le migliori 20 nazioni per media punti. Segue la francia con 19.739 (16.61%). <br>Lo stato al secondo posto ha meno della metà dei vini rispetto alla nazione al primo posto. <br>Sull'ultimo gradino del podio troviamo l'Italia con 17.805 (14.98%)\n",
    "<br><br>US, Francia e Italia compongono oltre l'75% del dataset. <br>\n",
    "Considerando il punteggio massimo dei vini, la media e il conteggio ho deciso che mi concentrerò su Francia, Italia, Us, Portogallo e Austria per l'assortimento eliminando il resto delle nazioni\n"
   ]
  },
  {
   "cell_type": "code",
   "execution_count": null,
   "metadata": {},
   "outputs": [],
   "source": [
    "# Countries to keep\n",
    "top_5 = ['France', 'Italy', 'US', 'Portugal', 'Austria']\n",
    "\n",
    "# Filter\n",
    "cond = df['country'].isin(top_5)\n",
    "\n",
    "# Dataset\n",
    "countries_df = df.loc[cond].copy()\n",
    "\n",
    "# Visualization settings\n",
    "countries_df.head().style.set_properties(subset=['description'], **{'width': '300px'})"
   ]
  },
  {
   "attachments": {},
   "cell_type": "markdown",
   "metadata": {},
   "source": [
    "### Distribuzione range di prezzo"
   ]
  },
  {
   "cell_type": "code",
   "execution_count": null,
   "metadata": {},
   "outputs": [],
   "source": [
    "# Histogram\n",
    "fig = px.histogram(\n",
    "    countries_df, \n",
    "    x='price_range',\n",
    "    y='price_range',\n",
    "    facet_col='country',\n",
    "    facet_col_wrap=2,\n",
    "    histfunc='count',\n",
    "    template='simple_white',\n",
    "    text_auto=True,\n",
    "    width=900,\n",
    "    height=900\n",
    ")\n",
    "\n",
    "# Layout\n",
    "fig.update_layout(\n",
    "    xaxis=dict(\n",
    "        title='Price distribution',\n",
    "        categoryorder='category ascending'\n",
    "    ),\n",
    "    yaxis=dict(\n",
    "        title='Count'\n",
    "    )\n",
    ")\n",
    "\n",
    "fig.show()"
   ]
  },
  {
   "attachments": {},
   "cell_type": "markdown",
   "metadata": {},
   "source": [
    "Da questo grafico possiamo vedere come si distribuiscono i vini delle 5 top nazioni per quanto riguarda i 10 range di prezzo creati precedentemente. Anche filtrando per nazione, possiamo vedere come le bottiglie del range 0-9 siano quasi assenti contro invece lo smisurato aumento nel range 10-19 che va via via scendendo per poi avere un leggero incremento superata la soglia di 79.<br>L'unica differenza la fa l'US che ha come maggior concentrazione il range di prezzo 20-29"
   ]
  },
  {
   "attachments": {},
   "cell_type": "markdown",
   "metadata": {},
   "source": [
    "### Prezzo per punteggio"
   ]
  },
  {
   "cell_type": "code",
   "execution_count": null,
   "metadata": {},
   "outputs": [],
   "source": [
    "countries_df.corr(numeric_only=True)"
   ]
  },
  {
   "attachments": {},
   "cell_type": "markdown",
   "metadata": {},
   "source": [
    "C'è una debole correlazione tra punteggio e prezzi, mentre non c'è nessuna correlazione tra anni e prezzo. Non c'è nessuna correlazione nemmeno tra anni e punti.<br> Vediamo come si comportano punti e prezzi tra loro per ogni nazione"
   ]
  },
  {
   "cell_type": "code",
   "execution_count": null,
   "metadata": {},
   "outputs": [],
   "source": [
    "# Figure\n",
    "fig = px.scatter(countries_df, x='points', y='price', facet_col='country', facet_col_wrap=3, width=900, height=900, opacity=0.2, trendline='ols', trendline_color_override='red')\n",
    "fig.show()\n",
    "\n",
    "# Trendline\n",
    "results = px.get_trendline_results(fig)\n",
    "\n",
    "# Summary tables\n",
    "for t in top_5:\n",
    "    print(t)\n",
    "    print(results.query(f\"country == '{t}'\").px_fit_results.iloc[0].summary(), end='\\n\\n\\n')"
   ]
  },
  {
   "attachments": {},
   "cell_type": "markdown",
   "metadata": {},
   "source": [
    "Da questo grafico possiamo osservare come la Francia sia quella con il vino più costoso, e in generale con i vini più costosi in assoluto tra le 5 nazioni. Osserviamo inoltre che il vino più costoso, ma in generale quelli con i prezzi più alti, non sono quelli con il punteggio maggiore"
   ]
  },
  {
   "attachments": {},
   "cell_type": "markdown",
   "metadata": {},
   "source": [
    "Ogni trendline ha un punteggio Adj. R-squared pari o inferiore al 20%, ciò significa che il modello lineare spiega solamente il 20% o meno della varianza. Anche il punteggio di Durbin-Watson è inferiore a 2 in tutti e 5 i casi. Non è assolutamente abbastanza nel caso in cui volessimo utilizzare un modello lineare per prevedere i prezzi in base al punteggio."
   ]
  },
  {
   "cell_type": "code",
   "execution_count": null,
   "metadata": {},
   "outputs": [],
   "source": [
    "fig = px.scatter(countries_df, x='points', y='price', color='country', width=900, height=900, trendline='ols', trendline_scope='overall', opacity=0.35, trendline_color_override='red')\n",
    "fig.show()"
   ]
  },
  {
   "attachments": {},
   "cell_type": "markdown",
   "metadata": {},
   "source": [
    "Anche nel caso generale abbiamo un Adj. R-squared al 16%. Solamente il punteggio del vino non è abbastanza per provare a prevedere il prezzo di un vino."
   ]
  },
  {
   "cell_type": "code",
   "execution_count": null,
   "metadata": {},
   "outputs": [],
   "source": [
    "# Year - Price scatter plot\n",
    "fig = px.scatter(countries_df, x='year', y='price', facet_col='country', facet_col_wrap=3, width=900, height=900, opacity=0.35)\n",
    "fig.show()"
   ]
  },
  {
   "attachments": {},
   "cell_type": "markdown",
   "metadata": {},
   "source": [
    "Questo grafico conferma l'assenza di correlazione tra prezzo e anno di produzione, nonostante il luogo comune suggerisca che più un vino è vecchio più costa."
   ]
  },
  {
   "attachments": {},
   "cell_type": "markdown",
   "metadata": {},
   "source": [
    "Dato che non sono riuscito a prevedere i prezzi con un modello lineare, devo ancora occuparmi dei valori mancanti. Ho deciso quindi di riempire questi valori con la media prezzo dei vini con medesimo punteggio e nazione."
   ]
  },
  {
   "cell_type": "code",
   "execution_count": null,
   "metadata": {},
   "outputs": [],
   "source": [
    "countries_df['price'].fillna(countries_df.groupby(['country', 'points'])['price'].transform('mean'), inplace=True)"
   ]
  },
  {
   "attachments": {},
   "cell_type": "markdown",
   "metadata": {},
   "source": [
    "Controlliamo ora se è andato tutto a buon fine"
   ]
  },
  {
   "cell_type": "code",
   "execution_count": null,
   "metadata": {},
   "outputs": [],
   "source": [
    "countries_df['price'].isna().sum()"
   ]
  },
  {
   "attachments": {},
   "cell_type": "markdown",
   "metadata": {},
   "source": [
    "Per qualche motivo abbiamo ancora un valore mancante, vediamo di cosa si tratta"
   ]
  },
  {
   "cell_type": "code",
   "execution_count": null,
   "metadata": {},
   "outputs": [],
   "source": [
    "cond = countries_df['price'].isna()\n",
    "countries_df.loc[cond]"
   ]
  },
  {
   "attachments": {},
   "cell_type": "markdown",
   "metadata": {},
   "source": [
    "Cerchiamo altri vini austriaci con punteggio pari a 98"
   ]
  },
  {
   "cell_type": "code",
   "execution_count": null,
   "metadata": {},
   "outputs": [],
   "source": [
    "# Filter\n",
    "cond = (countries_df['country'] == 'Austria') & (countries_df['points'] == 98)\n",
    "\n",
    "# Filtering dataset\n",
    "countries_df.loc[cond, 'price'].mean()"
   ]
  },
  {
   "attachments": {},
   "cell_type": "markdown",
   "metadata": {},
   "source": [
    "Non ci sono altri vini austriaci con un punteggio pari a 98, non è stato quindi possibile trovare un valore medio da associare al vino con queste caratteristiche<br>\n",
    "Sostituirò il prezzo con la media dei valori medi per i vini con punteggio pari a 98 delle altre nazioni"
   ]
  },
  {
   "cell_type": "code",
   "execution_count": null,
   "metadata": {},
   "outputs": [],
   "source": [
    "# Getting mean value\n",
    "fill_value = countries_df[countries_df['points'] == 98].groupby('country')['price'].mean().mean()\n",
    "\n",
    "# Value print\n",
    "fill_value"
   ]
  },
  {
   "cell_type": "code",
   "execution_count": null,
   "metadata": {},
   "outputs": [],
   "source": [
    "# Filling missin values\n",
    "countries_df['price'].fillna(value=fill_value, inplace=True)"
   ]
  },
  {
   "attachments": {},
   "cell_type": "markdown",
   "metadata": {},
   "source": [
    "Costruisco una nuova colonna con il rapporto qualità/prezzo"
   ]
  },
  {
   "cell_type": "code",
   "execution_count": null,
   "metadata": {},
   "outputs": [],
   "source": [
    "# Points/price column\n",
    "countries_df['points/price'] = countries_df['points'] / countries_df['price']"
   ]
  },
  {
   "attachments": {},
   "cell_type": "markdown",
   "metadata": {},
   "source": [
    "Aggiorno la colonna dei range di prezzo con i 4 range di prezzo che costituiranno il mio catalogo:\n",
    "<ul>\n",
    "<li>0-17 - Basic</li>\n",
    "<li>18-40 - Standard</li>\n",
    "<li>41-79 - Premium</li>\n",
    "<li>80+ - Elite</li>\n",
    "</ul>\n",
    "\n",
    "Ho scelto questi range perché controllando la distribuzione dei prezzi sotto 79 dollari (upper fence della distribuzione di tutti i prezzi) il 25% dei prezzi si colloca sotto 18, il 75% sotto 40, 79 è appunto l'upper fence. "
   ]
  },
  {
   "cell_type": "code",
   "execution_count": null,
   "metadata": {},
   "outputs": [],
   "source": [
    "# Updating price_range column\n",
    "countries_df['price_range'] = countries_df['price'].apply(lambda x: 'Elite' if x > 79 else 'Premium' if x > 40 else 'Standard' if x > 17 else 'Basic')\n",
    "\n",
    "# Dataset\n",
    "countries_df"
   ]
  },
  {
   "attachments": {},
   "cell_type": "markdown",
   "metadata": {},
   "source": [
    "Rendiamo la colonna **price range** una colonna categorica. In questo modo quando andremo ad ordinare in base a questa colonna, l'ordine seguirà l'ordine della lista da noi fornita e non quello alfabetico"
   ]
  },
  {
   "cell_type": "code",
   "execution_count": null,
   "metadata": {},
   "outputs": [],
   "source": [
    "# Column dtype\n",
    "countries_df['price_range'] = pd.Categorical(countries_df['price_range'], ['Basic', 'Standard', 'Premium', 'Elite'])"
   ]
  },
  {
   "attachments": {},
   "cell_type": "markdown",
   "metadata": {},
   "source": [
    "Ora è giunto il momento di cotruire il catalogo:<br>\n",
    "Inserirò 3 vini per fascia di prezzo per ogni nazione basandomi sui punti e sul rapporto qualità/prezzo. "
   ]
  },
  {
   "cell_type": "code",
   "execution_count": null,
   "metadata": {},
   "outputs": [],
   "source": [
    "# Dataframe index reset and setting the indexes variable\n",
    "countries_df.reset_index(drop=True, inplace=True)\n",
    "catalogue_indexes = []\n",
    "\n",
    "# Getting list of indexes for every country and every price range\n",
    "for country in top_5:\n",
    "    for range in countries_df['price_range'].unique():\n",
    "        cond = (countries_df['country'] == country) & (countries_df['price_range'] == range)\n",
    "        indexes = countries_df.loc[cond].sort_values(by=['points', 'points/price'], ascending=False).head(3).index.to_list()\n",
    "        catalogue_indexes += indexes"
   ]
  },
  {
   "cell_type": "code",
   "execution_count": null,
   "metadata": {},
   "outputs": [],
   "source": [
    "# Building the catalog dataframe\n",
    "catalogue_df = countries_df.iloc[catalogue_indexes].sort_values(by=['country', 'price_range', 'points/price'], ascending=[True, True, False])\n",
    "catalogue_df.reset_index(drop=True, inplace=True)"
   ]
  },
  {
   "attachments": {},
   "cell_type": "markdown",
   "metadata": {},
   "source": [
    "L'ultimo passaggio è quello di arrotondare le colonne dei prezzi e dei points/price a due cifre decimali. Ecco il catalogo che comprende le 5 migliori nazioni, con 3 vini per categoria per un totale di 60 vini nel catalogo."
   ]
  },
  {
   "cell_type": "code",
   "execution_count": null,
   "metadata": {},
   "outputs": [],
   "source": [
    "catalogue_df = catalogue_df.round({'price':2, 'points/price':2})\n",
    "\n",
    "catalogue_df"
   ]
  },
  {
   "attachments": {},
   "cell_type": "markdown",
   "metadata": {},
   "source": [
    "## Catalogo Variety"
   ]
  },
  {
   "attachments": {},
   "cell_type": "markdown",
   "metadata": {},
   "source": [
    "Ora passerò alla costruzione del catalogo per le migliori varietà e cantine.<br>\n",
    " I passaggi eseguiti sono i medesimi usati per la costruzione del catalogo per le migliori nazioni."
   ]
  },
  {
   "cell_type": "code",
   "execution_count": null,
   "metadata": {},
   "outputs": [],
   "source": [
    "# Aggregate functions (max, min, mean, count) on the dataframe grouped by variety on the points column sorted by mean column first\n",
    "\n",
    "df.groupby('variety')['points'].agg(['max', 'min', 'mean', 'count']).sort_values(by=['mean', 'max', 'count'], ascending=[False, False, False])[:20]"
   ]
  },
  {
   "attachments": {},
   "cell_type": "markdown",
   "metadata": {},
   "source": [
    "Le migliori varietà per punteggio medio sono state recensite solo 1 o 2 volte nella maggior parte dei casi, con un punteggio massimo che non va oltre i 96 punti. Proviamo a cambiare i criteri di ordinamento dando la priorità al punteggio massimo ottenuto."
   ]
  },
  {
   "cell_type": "code",
   "execution_count": null,
   "metadata": {},
   "outputs": [],
   "source": [
    "# Aggregate functions (max, min, mean, count) on the dataframe grouped by variety on the points column sorted by max column first\n",
    "df.groupby('variety')['points'].agg(['max', 'min', 'mean', 'count']).sort_values(by=['max', 'mean', 'count'], ascending=[False, False, False])[:20]"
   ]
  },
  {
   "attachments": {},
   "cell_type": "markdown",
   "metadata": {},
   "source": [
    "Ecco che anche questa volta la classifica prende una piega diversa, con delle varietà che sono state recensite centinaia di volte. Il range di punti ricevuti molto più ampio rispetto alla classifica precedente, oltre che alla grande quantità di recensioni ricevute è probabilmente dovuto anche alle differenti cantine che hanno prodotto tale varietà."
   ]
  },
  {
   "cell_type": "code",
   "execution_count": null,
   "metadata": {},
   "outputs": [],
   "source": [
    "# Getting top varieties list\n",
    "top_varieties = df.groupby('variety')['points'].agg(['max', 'min', 'mean', 'count']).sort_values(by=['max', 'mean', 'count'], ascending=[False, False, False]).query('max == 100').index.to_list()\n",
    "\n",
    "# Printing top varieties list\n",
    "top_varieties"
   ]
  },
  {
   "cell_type": "code",
   "execution_count": null,
   "metadata": {},
   "outputs": [],
   "source": [
    "# Top varieties dataframe\n",
    "varieties_df = df.query('variety in (@top_varieties)').copy()\n",
    "\n",
    "# Creating the plot figure\n",
    "fig = px.histogram(varieties_df, x='points', y='points', histfunc='count', facet_col='variety', facet_col_wrap=5, height=900, width=1800)\n",
    "\n",
    "# Printing the plot\n",
    "fig.show()"
   ]
  },
  {
   "attachments": {},
   "cell_type": "markdown",
   "metadata": {},
   "source": [
    "Dagli istogrammi di distribuzione del conteggio dei punti, divisi per le top varietà vediamo come lo Chardonnay sia il padrone incontrastato seguito dal cabernet Sauvignon"
   ]
  },
  {
   "attachments": {},
   "cell_type": "markdown",
   "metadata": {},
   "source": [
    "Procedo a creare il catalogo che comprenderà 3 opzioni per fascia di prezzo per ogni varietà (13) per un totale di 156 vini"
   ]
  },
  {
   "cell_type": "code",
   "execution_count": null,
   "metadata": {},
   "outputs": [],
   "source": [
    "# Filling missing values with the mena value of wines in the same variety and points\n",
    "varieties_df['price'].fillna(varieties_df.groupby(['variety', 'points'])['price'].transform('mean'), inplace=True)\n",
    "\n",
    "# Creating price range columns\n",
    "varieties_df['price_range'] = varieties_df['price'].apply(lambda x: 'Elite' if x > 79 else 'Premium' if x > 40 else 'Standard' if x > 17 else 'Basic')\n",
    "\n",
    "# Creating points/price column\n",
    "varieties_df['points/price'] = varieties_df['points'] / varieties_df['price']\n",
    "\n",
    "# Setting price_range column to categorical type\n",
    "varieties_df['price_range'] = pd.Categorical(varieties_df['price_range'], ['Basic', 'Standard', 'Premium', 'Elite'])\n",
    "\n",
    "# Resetting the index\n",
    "varieties_df.reset_index(drop=True, inplace=True)\n",
    "\n",
    "# Creating indexes list variable\n",
    "variety_catalog_indexes = []\n",
    "\n",
    "# Getting indexes and filling the list created above\n",
    "for variety in top_varieties:\n",
    "    for range in varieties_df['price_range'].unique():\n",
    "        variety_indexes = varieties_df.query('variety == @variety and price_range == @range').sort_values(by=['points', 'points/price'], ascending=False).head(3).index.to_list()\n",
    "        variety_catalog_indexes += variety_indexes\n",
    "\n",
    "# Creating the dataframe of varieties, sorting by varities, price_range and points/price\n",
    "variety_catalog_df = varieties_df.iloc[variety_catalog_indexes].sort_values(by=['variety', 'price_range', 'points/price'], ascending=[True, True, False])\n",
    "\n",
    "# Resetting the index\n",
    "variety_catalog_df.reset_index(drop=True, inplace=True)\n",
    "\n",
    "# Rounding Price and points/price column \n",
    "variety_catalog_df = variety_catalog_df.round({'price':2, 'points/price':2})\n",
    "\n",
    "# Priting the catalogue\n",
    "variety_catalog_df"
   ]
  }
 ],
 "metadata": {
  "kernelspec": {
   "display_name": "venv",
   "language": "python",
   "name": "python3"
  },
  "language_info": {
   "codemirror_mode": {
    "name": "ipython",
    "version": 3
   },
   "file_extension": ".py",
   "mimetype": "text/x-python",
   "name": "python",
   "nbconvert_exporter": "python",
   "pygments_lexer": "ipython3",
   "version": "3.11.0 (main, Oct 24 2022, 18:26:48) [MSC v.1933 64 bit (AMD64)]"
  },
  "orig_nbformat": 4,
  "vscode": {
   "interpreter": {
    "hash": "023b5929b5bc9e46b342fb9eb478a7f7daf58b33dbbc865ae503f69781d707b2"
   }
  }
 },
 "nbformat": 4,
 "nbformat_minor": 2
}
